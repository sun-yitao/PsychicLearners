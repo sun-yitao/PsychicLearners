{
 "cells": [
  {
   "cell_type": "code",
   "execution_count": 24,
   "metadata": {
    "ExecuteTime": {
     "end_time": "2019-03-23T10:07:52.157564Z",
     "start_time": "2019-03-23T10:07:52.154422Z"
    }
   },
   "outputs": [],
   "source": [
    "import pandas as pd\n",
    "import numpy as np\n",
    "from sklearn.metrics import accuracy_score"
   ]
  },
  {
   "cell_type": "code",
   "execution_count": 2,
   "metadata": {
    "ExecuteTime": {
     "end_time": "2019-03-23T09:53:42.909542Z",
     "start_time": "2019-03-23T09:53:42.566082Z"
    }
   },
   "outputs": [],
   "source": [
    "valid_df = pd.read_csv('/Users/sunyitao/Documents/Projects/GitHub/PsychicLearners/data/fashion_valid_split.csv')\n",
    "test_df = pd.read_csv('/Users/sunyitao/Documents/Projects/GitHub/PsychicLearners/data/fashion_test_split.csv')"
   ]
  },
  {
   "cell_type": "code",
   "execution_count": 3,
   "metadata": {
    "ExecuteTime": {
     "end_time": "2019-03-23T09:56:52.828823Z",
     "start_time": "2019-03-23T09:56:52.799512Z"
    }
   },
   "outputs": [],
   "source": [
    "knn_400_valid = np.load('/Users/sunyitao/Documents/Projects/GitHub/PsychicLearners/data/probabilities/fashion/KNN_itemid_400/valid.npy')\n",
    "knn_400_test = np.load('/Users/sunyitao/Documents/Projects/GitHub/PsychicLearners/data/probabilities/fashion/KNN_itemid_400/test.npy')"
   ]
  },
  {
   "cell_type": "code",
   "execution_count": 35,
   "metadata": {
    "ExecuteTime": {
     "end_time": "2019-03-23T10:13:37.673357Z",
     "start_time": "2019-03-23T10:13:37.661008Z"
    }
   },
   "outputs": [],
   "source": [
    "knn_50_valid = np.load('/Users/sunyitao/Documents/Projects/GitHub/PsychicLearners/data/probabilities/fashion/KNN_itemid_50/valid.npy')\n",
    "knn_50_test = np.load('/Users/sunyitao/Documents/Projects/GitHub/PsychicLearners/data/probabilities/fashion/KNN_itemid_50/test.npy')"
   ]
  },
  {
   "cell_type": "code",
   "execution_count": 13,
   "metadata": {
    "ExecuteTime": {
     "end_time": "2019-03-23T10:04:10.135690Z",
     "start_time": "2019-03-23T10:04:10.128793Z"
    }
   },
   "outputs": [],
   "source": [
    "high_variance_idx_valid = valid_df.index[(valid_df['itemid'] > 0.75*1e9) & (valid_df['itemid'] < 1.5*1e9)]\n",
    "high_variance_idx_test = test_df.index[(test_df['itemid'] > 0.75*1e9) & (test_df['itemid'] < 1.5*1e9)]"
   ]
  },
  {
   "cell_type": "code",
   "execution_count": 14,
   "metadata": {
    "ExecuteTime": {
     "end_time": "2019-03-23T10:04:10.407322Z",
     "start_time": "2019-03-23T10:04:10.400539Z"
    }
   },
   "outputs": [],
   "source": [
    "safe_idx_valid = valid_df.index[(valid_df['itemid'] <= 0.75*1e9) | (valid_df['itemid'] >= 1.5*1e9)]\n",
    "safe_idx_test = test_df.index[(test_df['itemid'] <= 0.75*1e9) | (test_df['itemid'] >= 1.5*1e9)]"
   ]
  },
  {
   "cell_type": "code",
   "execution_count": 23,
   "metadata": {
    "ExecuteTime": {
     "end_time": "2019-03-23T10:07:23.196503Z",
     "start_time": "2019-03-23T10:07:23.188068Z"
    }
   },
   "outputs": [],
   "source": [
    "high_variance_labels = valid_df['Category'][(valid_df['itemid'] > 0.75*1e9) & (valid_df['itemid'] < 1.5*1e9)]\n",
    "safe_labels = valid_df['Category'][(valid_df['itemid'] <= 0.75*1e9) | (valid_df['itemid'] >= 1.5*1e9)]"
   ]
  },
  {
   "cell_type": "code",
   "execution_count": 28,
   "metadata": {
    "ExecuteTime": {
     "end_time": "2019-03-23T10:10:52.436290Z",
     "start_time": "2019-03-23T10:10:52.430213Z"
    }
   },
   "outputs": [],
   "source": [
    "knn400_safe_preds = np.argmax(knn_400_valid[safe_idx_valid], axis=1)\n",
    "knn400_var_preds = np.argmax(knn_400_valid[high_variance_idx_valid], axis=1)\n",
    "knn400_safe_preds += 17\n",
    "knn400_var_preds += 17"
   ]
  },
  {
   "cell_type": "code",
   "execution_count": 29,
   "metadata": {
    "ExecuteTime": {
     "end_time": "2019-03-23T10:10:55.626915Z",
     "start_time": "2019-03-23T10:10:55.621975Z"
    }
   },
   "outputs": [
    {
     "data": {
      "text/plain": [
       "0.3542102310399347"
      ]
     },
     "execution_count": 29,
     "metadata": {},
     "output_type": "execute_result"
    }
   ],
   "source": [
    "accuracy_score(high_variance_labels, knn400_var_preds)"
   ]
  },
  {
   "cell_type": "code",
   "execution_count": 30,
   "metadata": {
    "ExecuteTime": {
     "end_time": "2019-03-23T10:11:26.861865Z",
     "start_time": "2019-03-23T10:11:26.856600Z"
    }
   },
   "outputs": [
    {
     "data": {
      "text/plain": [
       "0.30829292348154846"
      ]
     },
     "execution_count": 30,
     "metadata": {},
     "output_type": "execute_result"
    }
   ],
   "source": [
    "accuracy_score(safe_labels, knn400_safe_preds)"
   ]
  },
  {
   "cell_type": "code",
   "execution_count": 31,
   "metadata": {
    "ExecuteTime": {
     "end_time": "2019-03-23T10:12:17.202363Z",
     "start_time": "2019-03-23T10:12:17.196234Z"
    }
   },
   "outputs": [],
   "source": [
    "knn50_safe_preds = np.argmax(knn_50_valid[safe_idx_valid], axis=1)\n",
    "knn50_var_preds = np.argmax(knn_50_valid[high_variance_idx_valid], axis=1)\n",
    "knn50_safe_preds += 17\n",
    "knn50_var_preds += 17"
   ]
  },
  {
   "cell_type": "code",
   "execution_count": 32,
   "metadata": {
    "ExecuteTime": {
     "end_time": "2019-03-23T10:12:26.897805Z",
     "start_time": "2019-03-23T10:12:26.892811Z"
    }
   },
   "outputs": [
    {
     "data": {
      "text/plain": [
       "0.4454021522925486"
      ]
     },
     "execution_count": 32,
     "metadata": {},
     "output_type": "execute_result"
    }
   ],
   "source": [
    "accuracy_score(high_variance_labels, knn50_var_preds)"
   ]
  },
  {
   "cell_type": "code",
   "execution_count": 33,
   "metadata": {
    "ExecuteTime": {
     "end_time": "2019-03-23T10:12:36.193521Z",
     "start_time": "2019-03-23T10:12:36.187768Z"
    }
   },
   "outputs": [
    {
     "data": {
      "text/plain": [
       "0.4113585929152626"
      ]
     },
     "execution_count": 33,
     "metadata": {},
     "output_type": "execute_result"
    }
   ],
   "source": [
    "accuracy_score(safe_labels, knn50_safe_preds)"
   ]
  },
  {
   "cell_type": "code",
   "execution_count": 36,
   "metadata": {
    "ExecuteTime": {
     "end_time": "2019-03-23T10:13:46.300324Z",
     "start_time": "2019-03-23T10:13:46.294922Z"
    }
   },
   "outputs": [],
   "source": [
    "knn_100_valid = np.load('/Users/sunyitao/Documents/Projects/GitHub/PsychicLearners/data/probabilities/fashion/KNN_itemid_100/valid.npy')\n",
    "knn_100_test = np.load('/Users/sunyitao/Documents/Projects/GitHub/PsychicLearners/data/probabilities/fashion/KNN_itemid_100/test.npy')"
   ]
  },
  {
   "cell_type": "code",
   "execution_count": 37,
   "metadata": {
    "ExecuteTime": {
     "end_time": "2019-03-23T10:14:10.500231Z",
     "start_time": "2019-03-23T10:14:10.493996Z"
    }
   },
   "outputs": [],
   "source": [
    "knn100_safe_preds = np.argmax(knn_100_valid[safe_idx_valid], axis=1)\n",
    "knn100_var_preds = np.argmax(knn_100_valid[high_variance_idx_valid], axis=1)\n",
    "knn100_safe_preds += 17\n",
    "knn100_var_preds += 17"
   ]
  },
  {
   "cell_type": "code",
   "execution_count": 38,
   "metadata": {
    "ExecuteTime": {
     "end_time": "2019-03-23T10:14:21.169160Z",
     "start_time": "2019-03-23T10:14:21.164121Z"
    }
   },
   "outputs": [
    {
     "data": {
      "text/plain": [
       "0.4091905951955934"
      ]
     },
     "execution_count": 38,
     "metadata": {},
     "output_type": "execute_result"
    }
   ],
   "source": [
    "accuracy_score(high_variance_labels, knn100_var_preds)"
   ]
  },
  {
   "cell_type": "code",
   "execution_count": 39,
   "metadata": {
    "ExecuteTime": {
     "end_time": "2019-03-23T10:14:28.860979Z",
     "start_time": "2019-03-23T10:14:28.855595Z"
    }
   },
   "outputs": [
    {
     "data": {
      "text/plain": [
       "0.38300320539163313"
      ]
     },
     "execution_count": 39,
     "metadata": {},
     "output_type": "execute_result"
    }
   ],
   "source": [
    "accuracy_score(safe_labels, knn100_safe_preds)"
   ]
  },
  {
   "cell_type": "code",
   "execution_count": 40,
   "metadata": {
    "ExecuteTime": {
     "end_time": "2019-03-23T10:22:51.639145Z",
     "start_time": "2019-03-23T10:22:51.634918Z"
    }
   },
   "outputs": [],
   "source": [
    "# for safe indexes use knn50, else use knn400\n",
    "mixed_50_400_knn_valid = knn_50_valid\n",
    "mixed_50_400_knn_valid = knn_50_valid\n",
    "mixed_50_400_knn_valid[high_variance_idx_valid] = knn_400_valid[high_variance_idx_valid]"
   ]
  },
  {
   "cell_type": "code",
   "execution_count": 41,
   "metadata": {
    "ExecuteTime": {
     "end_time": "2019-03-23T10:23:25.445699Z",
     "start_time": "2019-03-23T10:23:25.441750Z"
    }
   },
   "outputs": [],
   "source": [
    "mixed_50_400_knn_test = knn_50_test\n",
    "mixed_50_400_knn_test = knn_50_test\n",
    "mixed_50_400_knn_test[high_variance_idx_test] = knn_400_test[high_variance_idx_test]"
   ]
  },
  {
   "cell_type": "code",
   "execution_count": 42,
   "metadata": {
    "ExecuteTime": {
     "end_time": "2019-03-23T10:24:41.767094Z",
     "start_time": "2019-03-23T10:24:41.721758Z"
    }
   },
   "outputs": [],
   "source": [
    "np.save('/Users/sunyitao/Documents/Projects/GitHub/PsychicLearners/data/probabilities/fashion/knn_itemid_400_50/valid.npy',\n",
    "       mixed_50_400_knn_valid)\n",
    "np.save('/Users/sunyitao/Documents/Projects/GitHub/PsychicLearners/data/probabilities/fashion/knn_itemid_400_50/test.npy',\n",
    "       mixed_50_400_knn_test)"
   ]
  },
  {
   "cell_type": "code",
   "execution_count": 43,
   "metadata": {
    "ExecuteTime": {
     "end_time": "2019-03-23T10:24:49.228714Z",
     "start_time": "2019-03-23T10:24:49.225125Z"
    }
   },
   "outputs": [
    {
     "data": {
      "text/plain": [
       "(43941, 14)"
      ]
     },
     "execution_count": 43,
     "metadata": {},
     "output_type": "execute_result"
    }
   ],
   "source": [
    "mixed_50_400_knn_valid.shape"
   ]
  },
  {
   "cell_type": "code",
   "execution_count": 44,
   "metadata": {
    "ExecuteTime": {
     "end_time": "2019-03-23T10:24:57.860614Z",
     "start_time": "2019-03-23T10:24:57.856775Z"
    }
   },
   "outputs": [
    {
     "data": {
      "text/plain": [
       "(55440, 14)"
      ]
     },
     "execution_count": 44,
     "metadata": {},
     "output_type": "execute_result"
    }
   ],
   "source": [
    "mixed_50_400_knn_test.shape"
   ]
  },
  {
   "cell_type": "code",
   "execution_count": null,
   "metadata": {},
   "outputs": [],
   "source": []
  }
 ],
 "metadata": {
  "kernelspec": {
   "display_name": "Python 3",
   "language": "python",
   "name": "python3"
  },
  "language_info": {
   "codemirror_mode": {
    "name": "ipython",
    "version": 3
   },
   "file_extension": ".py",
   "mimetype": "text/x-python",
   "name": "python",
   "nbconvert_exporter": "python",
   "pygments_lexer": "ipython3",
   "version": "3.6.8"
  },
  "toc": {
   "base_numbering": 1,
   "nav_menu": {},
   "number_sections": true,
   "sideBar": true,
   "skip_h1_title": false,
   "title_cell": "Table of Contents",
   "title_sidebar": "Contents",
   "toc_cell": false,
   "toc_position": {},
   "toc_section_display": true,
   "toc_window_display": false
  },
  "varInspector": {
   "cols": {
    "lenName": 16,
    "lenType": 16,
    "lenVar": 40
   },
   "kernels_config": {
    "python": {
     "delete_cmd_postfix": "",
     "delete_cmd_prefix": "del ",
     "library": "var_list.py",
     "varRefreshCmd": "print(var_dic_list())"
    },
    "r": {
     "delete_cmd_postfix": ") ",
     "delete_cmd_prefix": "rm(",
     "library": "var_list.r",
     "varRefreshCmd": "cat(var_dic_list()) "
    }
   },
   "types_to_exclude": [
    "module",
    "function",
    "builtin_function_or_method",
    "instance",
    "_Feature"
   ],
   "window_display": false
  }
 },
 "nbformat": 4,
 "nbformat_minor": 2
}
