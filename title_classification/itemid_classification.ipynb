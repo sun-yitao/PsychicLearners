{
 "cells": [
  {
   "cell_type": "code",
   "execution_count": 2,
   "metadata": {
    "ExecuteTime": {
     "end_time": "2019-03-22T06:36:43.868368Z",
     "start_time": "2019-03-22T06:36:37.388486Z"
    }
   },
   "outputs": [
    {
     "name": "stderr",
     "output_type": "stream",
     "text": [
      "[MLENS] backend: threading\n",
      "Using TensorFlow backend.\n"
     ]
    }
   ],
   "source": [
    "import os\n",
    "import string\n",
    "import pandas as pd\n",
    "import xgboost\n",
    "import numpy as np\n",
    "\n",
    "from sklearn import model_selection, preprocessing, linear_model, naive_bayes, metrics, svm\n",
    "from sklearn.feature_extraction.text import TfidfVectorizer, CountVectorizer\n",
    "from sklearn import decomposition, ensemble\n",
    "from sklearn.naive_bayes import MultinomialNB\n",
    "from sklearn import ensemble\n",
    "from sklearn.linear_model import LogisticRegression\n",
    "from sklearn.pipeline import make_pipeline\n",
    "from sklearn.model_selection import GridSearchCV\n",
    "from sklearn.metrics import accuracy_score\n",
    "from sklearn.preprocessing import OneHotEncoder\n",
    "from sklearn import neighbors\n",
    "from sklearn.externals import joblib\n",
    "import mlens\n",
    "\n",
    "import keras\n",
    "from keras.preprocessing import text, sequence\n",
    "from keras import layers, models, optimizers\n",
    "\n",
    "from imblearn.under_sampling import RandomUnderSampler\n",
    "from imblearn.over_sampling import ADASYN, SMOTE, RandomOverSampler\n",
    "from imblearn.combine import SMOTEENN, SMOTETomek\n",
    "from imblearn.ensemble import BalancedRandomForestClassifier, EasyEnsembleClassifier, RUSBoostClassifier\n",
    "from imblearn.pipeline import make_pipeline as make_pipeline\n",
    "from imblearn.metrics import classification_report_imbalanced\n",
    "from ast import literal_eval"
   ]
  },
  {
   "cell_type": "code",
   "execution_count": 33,
   "metadata": {
    "ExecuteTime": {
     "end_time": "2019-03-22T17:29:13.738049Z",
     "start_time": "2019-03-22T17:29:12.292639Z"
    }
   },
   "outputs": [],
   "source": [
    "RANDOM_STATE = 42\n",
    "os.environ['KMP_DUPLICATE_LIB_OK'] = 'True' #workaround for macOS mkl issue\n",
    "BIG_CATEGORY = 'mobile'\n",
    "# load dataset\n",
    "data_directory = os.path.join(os.path.split(os.getcwd())[0], 'data')\n",
    "prob_dir = os.path.join(data_directory, 'probabilities', BIG_CATEGORY)\n",
    "train = pd.read_csv(os.path.join(data_directory, f'{BIG_CATEGORY}_train_split.csv'))\n",
    "valid = pd.read_csv(os.path.join(data_directory, f'{BIG_CATEGORY}_valid_split.csv'))\n",
    "test = pd.read_csv(os.path.join(data_directory, f'{BIG_CATEGORY}_test_split.csv'))\n",
    "train_x, train_y = train['itemid'].values.reshape(-1,1), train['Category']\n",
    "valid_x, valid_y = valid['itemid'].values.reshape(-1,1), valid['Category']\n",
    "test_x = test['itemid'].values.reshape(-1,1)"
   ]
  },
  {
   "cell_type": "code",
   "execution_count": 34,
   "metadata": {
    "ExecuteTime": {
     "end_time": "2019-03-22T17:29:13.965096Z",
     "start_time": "2019-03-22T17:29:13.946656Z"
    }
   },
   "outputs": [],
   "source": [
    "encoder = preprocessing.LabelEncoder()\n",
    "train_y = encoder.fit_transform(train_y)\n",
    "valid_y = encoder.fit_transform(valid_y)"
   ]
  },
  {
   "cell_type": "code",
   "execution_count": 35,
   "metadata": {
    "ExecuteTime": {
     "end_time": "2019-03-22T17:29:14.154293Z",
     "start_time": "2019-03-22T17:29:14.147413Z"
    }
   },
   "outputs": [],
   "source": [
    "def train_model(classifier, feature_vector_train, label, feature_vector_valid, cross_validate=False,\n",
    "                save_model=False, extract_probs=False, feature_vector_test=None, model_name='sklearn'):\n",
    "    # fit the training dataset on the classifier\n",
    "    #if isinstance(classifier, xgboost.XGBClassifier):\n",
    "    #    feature_vector_train = feature_vector_train.to_csc()\n",
    "    #    feature_vector_valid = feature_vector_valid.to_csc()\n",
    "    if cross_validate:\n",
    "        kfold = model_selection.StratifiedKFold(n_splits=5, random_state=7, shuffle=True)\n",
    "        results = model_selection.cross_val_score(classifier, feature_vector_train, \n",
    "                                                  label, cv=kfold, n_jobs=-1)\n",
    "        print(\"CV Accuracy: %.4f%% (%.4f%%)\" % (results.mean()*100, results.std()*100))\n",
    "        return results.mean()*100\n",
    "    else:\n",
    "        classifier.fit(feature_vector_train, label)\n",
    "        # predict the labels on validation dataset\n",
    "        predictions = classifier.predict(feature_vector_train)\n",
    "        print('Train Acc: {}'.format(metrics.accuracy_score(predictions, label)))\n",
    "        predictions = classifier.predict(feature_vector_valid)\n",
    "    if extract_probs:\n",
    "        val_preds = classifier.predict_proba(feature_vector_valid)\n",
    "        test_preds = classifier.predict_proba(feature_vector_test)\n",
    "        print(val_preds.shape)\n",
    "        print(test_preds.shape)\n",
    "        os.makedirs(os.path.join(prob_dir, model_name),exist_ok=True)\n",
    "        np.save(os.path.join(prob_dir, model_name, 'valid.npy'), val_preds)\n",
    "        np.save(os.path.join(prob_dir, model_name, 'test.npy'), test_preds)\n",
    "    if save_model:\n",
    "        model_path = os.path.join(data_directory, 'keras_checkpoints', \n",
    "                                  BIG_CATEGORY, model_name)\n",
    "        os.makedirs(model_path, exist_ok=True)\n",
    "        joblib.dump(classifier, os.path.join(model_path, model_name + '.joblib'))\n",
    "        \n",
    "    return metrics.accuracy_score(predictions, valid_y)"
   ]
  },
  {
   "cell_type": "code",
   "execution_count": 26,
   "metadata": {
    "ExecuteTime": {
     "end_time": "2019-03-22T15:52:26.898036Z",
     "start_time": "2019-03-22T15:52:26.687405Z"
    }
   },
   "outputs": [
    {
     "name": "stdout",
     "output_type": "stream",
     "text": [
      "Train Acc: 0.21363583206642497\n",
      "NB, Count Vectors:  0.2150631529705286\n"
     ]
    }
   ],
   "source": [
    "accuracy = train_model(make_pipeline(count_vect, naive_bayes.MultinomialNB(alpha=0.25)),\n",
    "                       train_x, train_y, valid_x, cross_validate=True,\n",
    "                       extract_probs=False, feature_vector_test=test_x, model_name='nb_ngrams_2')\n",
    "print(\"NB, Count Vectors: \", accuracy)"
   ]
  },
  {
   "cell_type": "code",
   "execution_count": 18,
   "metadata": {
    "ExecuteTime": {
     "end_time": "2019-03-22T11:54:08.435953Z",
     "start_time": "2019-03-22T11:52:58.477601Z"
    }
   },
   "outputs": [
    {
     "name": "stdout",
     "output_type": "stream",
     "text": [
      "Train Acc: 0.40376420252501977\n",
      "(43941, 14)\n",
      "(55440, 14)\n",
      "NN, Count Vectors:  0.39468833208165494\n"
     ]
    }
   ],
   "source": [
    "accuracy = train_model(neighbors.KNeighborsClassifier(n_neighbors=100, leaf_size=30),\n",
    "                       train_x, train_y, valid_x, cross_validate=False, save_model=True, extract_probs=True,\n",
    "                       model_name='KNN_itemid_100', feature_vector_test=test_x)\n",
    "print(\"NN, Count Vectors: \", accuracy)"
   ]
  },
  {
   "cell_type": "code",
   "execution_count": 32,
   "metadata": {
    "ExecuteTime": {
     "end_time": "2019-03-22T15:55:56.198053Z",
     "start_time": "2019-03-22T15:55:39.807082Z"
    }
   },
   "outputs": [
    {
     "name": "stdout",
     "output_type": "stream",
     "text": [
      "Train Acc: 0.48948660975324526\n",
      "(32065, 27)\n",
      "(40417, 27)\n",
      "RF, Count Vectors:  0.3840012474660845\n"
     ]
    }
   ],
   "source": [
    "accuracy = train_model(ensemble.RandomForestClassifier(n_estimators=150, max_depth=100, min_samples_leaf=10, n_jobs=-1),\n",
    "                       train_x, train_y, valid_x, cross_validate=False, save_model=True, extract_probs=True,\n",
    "                       model_name='rf_itemid', feature_vector_test=test_x)\n",
    "print(\"RF, Count Vectors: \", accuracy)"
   ]
  },
  {
   "cell_type": "code",
   "execution_count": 122,
   "metadata": {
    "ExecuteTime": {
     "end_time": "2019-03-20T14:49:16.114950Z",
     "start_time": "2019-03-20T14:47:39.004227Z"
    }
   },
   "outputs": [
    {
     "name": "stdout",
     "output_type": "stream",
     "text": [
      "Train Acc: 0.5055627022180642\n",
      "Xgb, N-Gram Vectors:  0.3773273039139248\n"
     ]
    }
   ],
   "source": [
    "\n",
    "accuracy = train_model(xgboost.XGBClassifier(max_depth=27, learning_rate=0.1, scale_pos_weight=1,\n",
    "                                            n_estimators=50, silent=True,\n",
    "                                            objective=\"binary:logistic\", booster='gbtree',\n",
    "                                            n_jobs=6, nthread=None, gamma=0.2, min_child_weight=5,\n",
    "                                            max_delta_step=0, subsample=1, colsample_bytree=0.7, colsample_bylevel=1,\n",
    "                                            reg_alpha=0, reg_lambda=1),\n",
    "                                            train_x, train_y, valid_x)\n",
    "print(\"Xgb, N-Gram Vectors: \", accuracy)"
   ]
  },
  {
   "cell_type": "code",
   "execution_count": 123,
   "metadata": {
    "ExecuteTime": {
     "end_time": "2019-03-20T14:58:09.521465Z",
     "start_time": "2019-03-20T14:50:04.643661Z"
    }
   },
   "outputs": [
    {
     "name": "stdout",
     "output_type": "stream",
     "text": [
      "Train Acc: 0.5369976221104744\n",
      "(32065, 27)\n",
      "(40417, 27)\n",
      "Xgb, N-Gram Vectors:  0.38147512864494\n"
     ]
    }
   ],
   "source": [
    "accuracy = train_model(xgboost.XGBClassifier(max_depth=27, learning_rate=0.05, scale_pos_weight=1,\n",
    "                                            n_estimators=200, silent=True,\n",
    "                                            objective=\"binary:logistic\", booster='gbtree',\n",
    "                                            n_jobs=6, nthread=None, gamma=0.2, min_child_weight=5,\n",
    "                                            max_delta_step=0, subsample=1, colsample_bytree=0.8, colsample_bylevel=1,\n",
    "                                            reg_alpha=0, reg_lambda=1),\n",
    "                      train_x, train_y, valid_x,\n",
    "                      save_model=True, extract_probs=True, \n",
    "                      feature_vector_test=test_x, model_name='xgb_itemid_index')\n",
    "print(\"Xgb, N-Gram Vectors: \", accuracy)"
   ]
  },
  {
   "cell_type": "code",
   "execution_count": null,
   "metadata": {},
   "outputs": [],
   "source": [
    "0.37732730"
   ]
  },
  {
   "cell_type": "code",
   "execution_count": 108,
   "metadata": {
    "ExecuteTime": {
     "end_time": "2019-03-19T17:39:13.266346Z",
     "start_time": "2019-03-19T17:39:13.262368Z"
    }
   },
   "outputs": [
    {
     "data": {
      "text/plain": [
       "array([[1307003048],\n",
       "       [1074369881],\n",
       "       [1734209676],\n",
       "       ...,\n",
       "       [1678022339],\n",
       "       [ 926098260],\n",
       "       [1727515811]])"
      ]
     },
     "execution_count": 108,
     "metadata": {},
     "output_type": "execute_result"
    }
   ],
   "source": [
    "itemid_train.values.reshape(-1, 1)"
   ]
  },
  {
   "cell_type": "code",
   "execution_count": 67,
   "metadata": {
    "ExecuteTime": {
     "end_time": "2019-03-20T09:05:41.075356Z",
     "start_time": "2019-03-20T09:04:26.907704Z"
    }
   },
   "outputs": [
    {
     "name": "stdout",
     "output_type": "stream",
     "text": [
      "Train Acc: 0.33257438957368296\n",
      "RF, ItemID:  0.27056545178568314\n"
     ]
    }
   ],
   "source": [
    "accuracy = train_model(ensemble.RandomForestClassifier(n_estimators=50, max_depth=40, min_samples_leaf=10),\n",
    "                       train_index, train_y, valid_index)\n",
    "print(\"RF, ItemID: \", accuracy)"
   ]
  },
  {
   "cell_type": "code",
   "execution_count": 61,
   "metadata": {
    "ExecuteTime": {
     "end_time": "2019-03-20T08:44:43.908069Z",
     "start_time": "2019-03-20T08:39:19.884832Z"
    }
   },
   "outputs": [
    {
     "name": "stdout",
     "output_type": "stream",
     "text": [
      "Train Acc: 0.47880627742447635\n",
      "Xgb, ItemID:  0.39394943908439034\n"
     ]
    }
   ],
   "source": [
    "accuracy = train_model(xgboost.XGBClassifier(\n",
    "    max_depth=15, learning_rate=0.1, n_estimators=100, silent=True, \n",
    "    objective='binary:logistic', booster='gbtree', n_jobs=6, nthread=None, \n",
    "    gamma=0, min_child_weight=1, max_delta_step=0, subsample=1, colsample_bytree=1, \n",
    "    colsample_bylevel=1, reg_alpha=0, reg_lambda=1, scale_pos_weight=1, \n",
    "    base_score=0.5, random_state=0, seed=None, missing=None),\n",
    "    train_x, train_y, valid_x)\n",
    "print(\"Xgb, ItemID: \", accuracy)"
   ]
  },
  {
   "cell_type": "code",
   "execution_count": null,
   "metadata": {},
   "outputs": [],
   "source": [
    "params = {\n",
    "    'max_depth': [9, 11, 13],\n",
    "    #'learning_rate': [0.05, 0.1, 0.2],\n",
    "    #'n_estimators': range(50, 200, 50),\n",
    "    #'gamma': [i/10.0 for i in range(0, 5)],\n",
    "    #'subsample': [i/10.0 for i in range(6, 10)],\n",
    "    #'colsample_bytree': [i/10.0 for i in range(6, 10)],\n",
    "    #'reg_alpha': [0, 0.001, 0.005, 0.01, 0.05]\n",
    "}\n",
    "ensemble = BlendEnsemble(scorer=accuracy_score, random_state=seed, verbose=2)\n",
    "ensemble.add([\n",
    "    RandomForestClassifier(n_estimators=100, max_depth=58*10, min_samples_leaf=10),  \n",
    "    #svm.LinearSVC(dual=False, tol=.01),\n",
    "    LogisticRegression(solver='sag', n_jobs=6, multi_class='multinomial', tol=1e-4, C=1.e4 / 533292),\n",
    "    naive_bayes.MultinomialNB(),\n",
    "    xgboost.XGBClassifier(max_depth=11, learning_rate=0.1, scale_pos_weight=1,\n",
    "                          n_estimators=100, silent=True,\n",
    "                          objective=\"binary:logistic\", booster='gbtree',\n",
    "                          n_jobs=6, nthread=None, gamma=0, min_child_weight=2,\n",
    "                          max_delta_step=0, subsample=1, colsample_bytree=1, colsample_bylevel=1,\n",
    "                          reg_alpha=0, reg_lambda=1),\n",
    "], proba=True)\n",
    "\n",
    "# Attach the final meta estimator\n",
    "ensemble.add_meta(LogisticRegression(solver='sag', n_jobs=6, multi_class='multinomial',\n",
    "                                     tol=1e-4, C=1.e4 / 533292))\n",
    "\n",
    "\n",
    "accuracy = train_model(make_pipeline(tfidf_vect_ngram, GridSearchCV(estimator=ensemble),\n",
    "                                     train_x, train_y, valid_x), param_grid=params, scoring='accuracy', n_jobs=-1)"
   ]
  },
  {
   "cell_type": "code",
   "execution_count": 63,
   "metadata": {
    "ExecuteTime": {
     "end_time": "2019-03-20T08:57:42.609657Z",
     "start_time": "2019-03-20T08:57:42.594566Z"
    }
   },
   "outputs": [
    {
     "data": {
      "text/plain": [
       "array([     0,      1,      2, ..., 229263, 229264, 229265])"
      ]
     },
     "execution_count": 63,
     "metadata": {},
     "output_type": "execute_result"
    }
   ],
   "source": [
    "train_index"
   ]
  },
  {
   "cell_type": "code",
   "execution_count": null,
   "metadata": {},
   "outputs": [],
   "source": []
  }
 ],
 "metadata": {
  "kernelspec": {
   "display_name": "Python 3",
   "language": "python",
   "name": "python3"
  },
  "language_info": {
   "codemirror_mode": {
    "name": "ipython",
    "version": 3
   },
   "file_extension": ".py",
   "mimetype": "text/x-python",
   "name": "python",
   "nbconvert_exporter": "python",
   "pygments_lexer": "ipython3",
   "version": "3.6.8"
  },
  "toc": {
   "base_numbering": 1,
   "nav_menu": {},
   "number_sections": true,
   "sideBar": true,
   "skip_h1_title": false,
   "title_cell": "Table of Contents",
   "title_sidebar": "Contents",
   "toc_cell": false,
   "toc_position": {},
   "toc_section_display": true,
   "toc_window_display": false
  },
  "varInspector": {
   "cols": {
    "lenName": 16,
    "lenType": 16,
    "lenVar": 40
   },
   "kernels_config": {
    "python": {
     "delete_cmd_postfix": "",
     "delete_cmd_prefix": "del ",
     "library": "var_list.py",
     "varRefreshCmd": "print(var_dic_list())"
    },
    "r": {
     "delete_cmd_postfix": ") ",
     "delete_cmd_prefix": "rm(",
     "library": "var_list.r",
     "varRefreshCmd": "cat(var_dic_list()) "
    }
   },
   "types_to_exclude": [
    "module",
    "function",
    "builtin_function_or_method",
    "instance",
    "_Feature"
   ],
   "window_display": false
  }
 },
 "nbformat": 4,
 "nbformat_minor": 2
}
