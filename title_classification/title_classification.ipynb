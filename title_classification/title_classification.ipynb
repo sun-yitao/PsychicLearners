{
 "cells": [
  {
   "cell_type": "code",
   "execution_count": 32,
   "metadata": {
    "ExecuteTime": {
     "end_time": "2019-03-19T13:01:04.162016Z",
     "start_time": "2019-03-19T13:01:04.156598Z"
    }
   },
   "outputs": [],
   "source": [
    "import os\n",
    "import string\n",
    "import pandas as pd\n",
    "import xgboost\n",
    "import numpy as np\n",
    "import textblob\n",
    "\n",
    "from sklearn import model_selection, preprocessing, linear_model, naive_bayes, metrics, svm\n",
    "from sklearn.feature_extraction.text import TfidfVectorizer, CountVectorizer\n",
    "from sklearn import decomposition, ensemble\n",
    "from sklearn.naive_bayes import MultinomialNB\n",
    "from sklearn.ensemble import RandomForestClassifier\n",
    "from sklearn.linear_model import LogisticRegression\n",
    "from sklearn.pipeline import make_pipeline\n",
    "from sklearn.model_selection import GridSearchCV\n",
    "from sklearn.metrics import accuracy_score\n",
    "from sklearn.preprocessing import OneHotEncoder\n",
    "import mlens\n",
    "\n",
    "import keras\n",
    "from keras.preprocessing import text, sequence\n",
    "from keras import layers, models, optimizers\n",
    "\n",
    "from imblearn.under_sampling import RandomUnderSampler\n",
    "from imblearn.over_sampling import ADASYN, SMOTE, RandomOverSampler\n",
    "from imblearn.combine import SMOTEENN, SMOTETomek\n",
    "from imblearn.ensemble import BalancedRandomForestClassifier, EasyEnsembleClassifier, RUSBoostClassifier\n",
    "from imblearn.pipeline import make_pipeline as make_pipeline\n",
    "from imblearn.metrics import classification_report_imbalanced\n",
    "from ast import literal_eval"
   ]
  },
  {
   "cell_type": "code",
   "execution_count": 2,
   "metadata": {
    "ExecuteTime": {
     "end_time": "2019-03-19T11:58:38.151720Z",
     "start_time": "2019-03-19T11:58:37.028060Z"
    }
   },
   "outputs": [],
   "source": [
    "RANDOM_STATE = 42\n",
    "os.environ['KMP_DUPLICATE_LIB_OK'] = 'True' #workaround for macOS mkl issue\n",
    "BIG_CATEGORY = 'fashion'\n",
    "# load dataset\n",
    "data_directory = os.path.join(os.path.split(os.getcwd())[0], 'data')\n",
    "prob_dir = os.path.join(data_directory, 'probabilities', BIG_CATEGORY)\n",
    "train = pd.read_csv(os.path.join(data_directory, f'{BIG_CATEGORY}_train_split.csv'))\n",
    "valid = pd.read_csv(os.path.join(data_directory, f'{BIG_CATEGORY}_valid_split.csv'))\n",
    "test = pd.read_csv(os.path.join(data_directory, f'{BIG_CATEGORY}_test_split.csv'))\n",
    "train_x, train_y = train['title'], train['Category']\n",
    "valid_x, valid_y = valid['title'], valid['Category']\n",
    "test_x = test['title']"
   ]
  },
  {
   "cell_type": "code",
   "execution_count": 4,
   "metadata": {
    "ExecuteTime": {
     "end_time": "2019-03-19T12:00:00.927018Z",
     "start_time": "2019-03-19T11:59:59.348873Z"
    }
   },
   "outputs": [],
   "source": [
    "train['extractions'] = train['extractions'].map(literal_eval)\n",
    "valid['extractions'] = valid['extractions'].map(literal_eval)\n",
    "test['extractions'] = test['extractions'].map(literal_eval)\n",
    "train['extractions'] = train['extractions'].map(lambda s: ' '.join(s) if s else pd.NaT)\n",
    "valid['extractions'] = valid['extractions'].map(lambda s: ' '.join(s) if s else pd.NaT)\n",
    "test['extractions'] = test['extractions'].map(lambda s: ' '.join(s) if s else pd.NaT)"
   ]
  },
  {
   "cell_type": "code",
   "execution_count": 25,
   "metadata": {
    "ExecuteTime": {
     "end_time": "2019-03-19T12:52:05.541217Z",
     "start_time": "2019-03-19T12:51:33.261077Z"
    }
   },
   "outputs": [
    {
     "data": {
      "text/plain": [
       "TfidfVectorizer(analyzer='word', binary=False, decode_error='strict',\n",
       "        dtype=<class 'numpy.float64'>, encoding='utf-8', input='content',\n",
       "        lowercase=True, max_df=1.0, max_features=None, min_df=1,\n",
       "        ngram_range=(1, 3), norm='l2', preprocessor=None, smooth_idf=True,\n",
       "        stop_words=None, strip_accents='unicode', sublinear_tf=False,\n",
       "        token_pattern='(?u)\\\\b\\\\w\\\\w+\\\\b', tokenizer=None, use_idf=True,\n",
       "        vocabulary=None)"
      ]
     },
     "execution_count": 25,
     "metadata": {},
     "output_type": "execute_result"
    }
   ],
   "source": [
    "encoder = preprocessing.LabelEncoder()\n",
    "train_y = encoder.fit_transform(train_y)\n",
    "valid_y = encoder.fit_transform(valid_y)\n",
    "\n",
    "count_vect = CountVectorizer(analyzer='word', strip_accents='unicode',#Stop words may not be needed as they seem to be already removed\n",
    "                             stop_words=None, ngram_range=(2,7))  # \\b[^\\d\\W]{3,}\\b\n",
    "count_vect.fit(train['title'])\n",
    "# word level tf-idf\n",
    "tfidf_vect = TfidfVectorizer(analyzer='word', strip_accents='unicode',\n",
    "                             stop_words=None,) #token_pattern=r'\\b[^\\d\\W]{3,}\\b')\n",
    "tfidf_vect.fit(train['title'])\n",
    "# ngram level tf-idf\n",
    "tfidf_vect_ngram = TfidfVectorizer(analyzer='word', strip_accents='unicode',\n",
    "                                   stop_words=None, #token_pattern=r'\\b[^\\d\\W]{3,}\\b',\n",
    "                                   ngram_range=(1, 3))\n",
    "tfidf_vect_ngram.fit(train['title'])"
   ]
  },
  {
   "cell_type": "code",
   "execution_count": 40,
   "metadata": {
    "ExecuteTime": {
     "end_time": "2019-03-19T14:20:27.106387Z",
     "start_time": "2019-03-19T14:20:27.100973Z"
    }
   },
   "outputs": [],
   "source": [
    "def train_model(classifier, feature_vector_train, label, feature_vector_valid, \n",
    "                is_neural_net=False, extract_probs=False, feature_vector_test=None, model_name='sklearn'):\n",
    "    # fit the training dataset on the classifier\n",
    "    if isinstance(classifier, xgboost.XGBClassifier):\n",
    "        feature_vector_train = feature_vector_train.to_csc()\n",
    "        feature_vector_valid = feature_vector_valid.to_csc()\n",
    "    classifier.fit(feature_vector_train, label)\n",
    "    # predict the labels on validation dataset\n",
    "    predictions = classifier.predict(feature_vector_train)\n",
    "    print('Train Acc: {}'.format(metrics.accuracy_score(predictions, label)))\n",
    "    predictions = classifier.predict(feature_vector_valid)\n",
    "    if extract_probs:\n",
    "        val_preds = classifier.predict_proba(feature_vector_valid)\n",
    "        test_preds = classifier.predict_proba(feature_vector_test)\n",
    "        print(val_preds.shape)\n",
    "        print(test_preds.shape)\n",
    "        os.makedirs(os.path.join(prob_dir, model_name),exist_ok=True)\n",
    "        np.save(os.path.join(prob_dir, model_name, 'valid.npy'), val_preds)\n",
    "        np.save(os.path.join(prob_dir, model_name, 'test.npy'), test_preds)\n",
    "    if is_neural_net:\n",
    "        predictions = predictions.argmax(axis=-1)\n",
    "    return metrics.accuracy_score(predictions, valid_y)"
   ]
  },
  {
   "cell_type": "code",
   "execution_count": 38,
   "metadata": {
    "ExecuteTime": {
     "end_time": "2019-03-19T14:17:25.149090Z",
     "start_time": "2019-03-19T14:16:53.118549Z"
    }
   },
   "outputs": [
    {
     "data": {
      "text/plain": [
       "CountVectorizer(analyzer='word', binary=False, decode_error='strict',\n",
       "        dtype=<class 'numpy.int64'>, encoding='utf-8', input='content',\n",
       "        lowercase=True, max_df=1.0, max_features=None, min_df=1,\n",
       "        ngram_range=(2, 9), preprocessor=None, stop_words=None,\n",
       "        strip_accents='unicode', token_pattern='(?u)\\\\b\\\\w\\\\w+\\\\b',\n",
       "        tokenizer=None, vocabulary=None)"
      ]
     },
     "execution_count": 38,
     "metadata": {},
     "output_type": "execute_result"
    }
   ],
   "source": [
    "count_vect = CountVectorizer(analyzer='word', strip_accents='unicode',#Stop words may not be needed as they seem to be already removed\n",
    "                             stop_words=None, ngram_range=(2,9))  # \\b[^\\d\\W]{3,}\\b\n",
    "count_vect.fit(train['title'])"
   ]
  },
  {
   "cell_type": "code",
   "execution_count": null,
   "metadata": {
    "ExecuteTime": {
     "start_time": "2019-03-19T14:20:30.332Z"
    }
   },
   "outputs": [],
   "source": [
    "accuracy = train_model(make_pipeline(count_vect, naive_bayes.MultinomialNB()),\n",
    "                       train_x, train_y, valid_x,\n",
    "                      extract_probs=True, feature_vector_test=test_x, model_name='nb_ngrams')\n",
    "print(\"NB, Count Vectors: \", accuracy)"
   ]
  },
  {
   "cell_type": "code",
   "execution_count": 30,
   "metadata": {
    "ExecuteTime": {
     "end_time": "2019-03-19T12:58:23.572658Z",
     "start_time": "2019-03-19T12:57:32.761490Z"
    }
   },
   "outputs": [
    {
     "name": "stdout",
     "output_type": "stream",
     "text": [
      "Train Acc: 0.8553604041852289\n",
      "NB, Count Vectors:  0.5909515031519538\n"
     ]
    }
   ],
   "source": [
    "accuracy = train_model(make_pipeline(count_vect, naive_bayes.MultinomialNB()),\n",
    "                       train_x, train_y, valid_x)\n",
    "print(\"NB, Count Vectors: \", accuracy)"
   ]
  },
  {
   "cell_type": "code",
   "execution_count": null,
   "metadata": {},
   "outputs": [],
   "source": [
    "\n",
    "# Linear Classifier on Count Vectors\n",
    "accuracy = train_model(make_pipeline(count_vect,\n",
    "                                     linear_model.LogisticRegression(solver='sag', n_jobs=6, multi_class='multinomial',\n",
    "                                                                     tol=1e-4, C=1.e4 / 533292)),\n",
    "                       train_x, train_y, valid_x)\n",
    "print(\"LR, Count Vectors: \", accuracy)\n",
    "\n",
    "# Linear Classifier on Word Level TF IDF Vectors\n",
    "accuracy = train_model(make_pipeline(tfidf_vect_ngram,\n",
    "                                     linear_model.LogisticRegression(solver='sag', n_jobs=6, multi_class='multinomial',\n",
    "                                                                     tol=1e-4, C=1.e4 / 533292)),\n",
    "                       train_x, train_y, valid_x)\n",
    "print(\"LR, WordLevel TF-IDF: \", accuracy)\n",
    "\n",
    "# Linear Classifier on Ngram Level TF IDF Vectors\n",
    "accuracy = train_model(make_pipeline(tfidf_vect_ngram,\n",
    "                                     linear_model.LogisticRegression(solver='sag', n_jobs=6, multi_class='multinomial',\n",
    "                                                                     tol=1e-4, C=1.e4 / 533292)),\n",
    "                       train_x, train_y, valid_x)\n",
    "print(\"LR, N-Gram Vectors: \", accuracy)"
   ]
  },
  {
   "cell_type": "code",
   "execution_count": null,
   "metadata": {},
   "outputs": [],
   "source": [
    "accuracy = train_model(make_pipeline(count_vect, ensemble.RandomForestClassifier(n_estimators=50, max_depth=58*10, min_samples_leaf=10)),\n",
    "                       train_x, train_y, valid_x)\n",
    "print(\"RF, Count Vectors: \", accuracy)\n",
    "\n",
    "# RF on Word Level TF IDF Vectors\n",
    "accuracy = train_model(make_pipeline(tfidf_vect, ensemble.RandomForestClassifier(n_estimators=50, max_depth=58*10, min_samples_leaf=10)),\n",
    "                       train_x, train_y, valid_x)\n",
    "print(\"RF, WordLevel TF-IDF: \", accuracy)"
   ]
  },
  {
   "cell_type": "code",
   "execution_count": null,
   "metadata": {},
   "outputs": [],
   "source": [
    "# Extereme Gradient Boosting on Count Vectors\n",
    "gridsearch = GridSearchCV(estimator=xgboost.XGBClassifier(max_depth=9, learning_rate=0.1, scale_pos_weight=1,\n",
    "                                                          n_estimators=50, silent=True,\n",
    "                                                          objective=\"binary:logistic\", booster='gbtree',\n",
    "                                                          n_jobs=6, nthread=None, gamma=0, min_child_weight=1,\n",
    "                                                          max_delta_step=0, subsample=1, colsample_bytree=1, colsample_bylevel=1,\n",
    "                                                          reg_alpha=0, reg_lambda=1),\n",
    "                          param_grid=params, scoring='accuracy', n_jobs=-1, verbose=2)\n",
    "accuracy = train_model(make_pipeline(tfidf_vect, gridsearch), train_x, train_y, valid_x)\n",
    "print(gridsearch.best_params_, gridsearch.best_score_)\n",
    "print(\"Xgb, WordLevel TF-IDF: \", accuracy)\n",
    "\n",
    "# Extereme Gradient Boosting on Word Level TF IDF Vectors\n",
    "accuracy = train_model(make_pipeline(tfidf_vect_ngram, GridSearchCV(estimator=xgboost.XGBClassifier(max_depth=5, learning_rate=0.1, scale_pos_weight=1,\n",
    "                                                                    n_estimators=50, silent=True,\n",
    "                                                                    objective=\"binary:logistic\", booster='dart',\n",
    "                                                                    n_jobs=6, nthread=None, gamma=0, min_child_weight=2,\n",
    "                                                                    max_delta_step=0, subsample=1, colsample_bytree=1, colsample_bylevel=1,\n",
    "                                                                    reg_alpha=0, reg_lambda=1),\n",
    "                                                                    param_grid=params, scoring='accuracy', n_jobs=-1)),\n",
    "                                                                    train_x, train_y, valid_x)\n",
    "print(\"Xgb, N-Gram Vectors: \", accuracy)"
   ]
  },
  {
   "cell_type": "code",
   "execution_count": null,
   "metadata": {},
   "outputs": [],
   "source": [
    "params = {\n",
    "    'max_depth': [9, 11, 13],\n",
    "    #'learning_rate': [0.05, 0.1, 0.2],\n",
    "    #'n_estimators': range(50, 200, 50),\n",
    "    #'gamma': [i/10.0 for i in range(0, 5)],\n",
    "    #'subsample': [i/10.0 for i in range(6, 10)],\n",
    "    #'colsample_bytree': [i/10.0 for i in range(6, 10)],\n",
    "    #'reg_alpha': [0, 0.001, 0.005, 0.01, 0.05]\n",
    "}\n",
    "ensemble = BlendEnsemble(scorer=accuracy_score, random_state=seed, verbose=2)\n",
    "ensemble.add([\n",
    "    RandomForestClassifier(n_estimators=100, max_depth=58*10, min_samples_leaf=10),  \n",
    "    #svm.LinearSVC(dual=False, tol=.01),\n",
    "    LogisticRegression(solver='sag', n_jobs=6, multi_class='multinomial', tol=1e-4, C=1.e4 / 533292),\n",
    "    naive_bayes.MultinomialNB(),\n",
    "    xgboost.XGBClassifier(max_depth=11, learning_rate=0.1, scale_pos_weight=1,\n",
    "                          n_estimators=100, silent=True,\n",
    "                          objective=\"binary:logistic\", booster='gbtree',\n",
    "                          n_jobs=6, nthread=None, gamma=0, min_child_weight=2,\n",
    "                          max_delta_step=0, subsample=1, colsample_bytree=1, colsample_bylevel=1,\n",
    "                          reg_alpha=0, reg_lambda=1),\n",
    "], proba=True)\n",
    "\n",
    "# Attach the final meta estimator\n",
    "ensemble.add_meta(LogisticRegression(solver='sag', n_jobs=6, multi_class='multinomial',\n",
    "                                     tol=1e-4, C=1.e4 / 533292))\n",
    "\n",
    "\n",
    "accuracy = train_model(make_pipeline(tfidf_vect_ngram, GridSearchCV(estimator=ensemble),\n",
    "                                     train_x, train_y, valid_x), param_grid=params, scoring='accuracy', n_jobs=-1)"
   ]
  }
 ],
 "metadata": {
  "kernelspec": {
   "display_name": "Python 3",
   "language": "python",
   "name": "python3"
  },
  "toc": {
   "base_numbering": 1,
   "nav_menu": {},
   "number_sections": true,
   "sideBar": true,
   "skip_h1_title": false,
   "title_cell": "Table of Contents",
   "title_sidebar": "Contents",
   "toc_cell": false,
   "toc_position": {},
   "toc_section_display": true,
   "toc_window_display": false
  },
  "varInspector": {
   "cols": {
    "lenName": 16,
    "lenType": 16,
    "lenVar": 40
   },
   "kernels_config": {
    "python": {
     "delete_cmd_postfix": "",
     "delete_cmd_prefix": "del ",
     "library": "var_list.py",
     "varRefreshCmd": "print(var_dic_list())"
    },
    "r": {
     "delete_cmd_postfix": ") ",
     "delete_cmd_prefix": "rm(",
     "library": "var_list.r",
     "varRefreshCmd": "cat(var_dic_list()) "
    }
   },
   "types_to_exclude": [
    "module",
    "function",
    "builtin_function_or_method",
    "instance",
    "_Feature"
   ],
   "window_display": false
  }
 },
 "nbformat": 4,
 "nbformat_minor": 2
}
