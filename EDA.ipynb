{
 "cells": [
  {
   "cell_type": "code",
   "execution_count": 1,
   "metadata": {
    "ExecuteTime": {
     "end_time": "2019-02-24T11:11:29.467218Z",
     "start_time": "2019-02-24T11:11:26.796818Z"
    }
   },
   "outputs": [],
   "source": [
    "import os\n",
    "import pandas as pd\n",
    "import numpy as np\n",
    "import matplotlib.pyplot as plt\n",
    "import seaborn as sns\n",
    "%matplotlib inline"
   ]
  },
  {
   "cell_type": "code",
   "execution_count": 2,
   "metadata": {
    "ExecuteTime": {
     "end_time": "2019-02-24T11:11:31.597595Z",
     "start_time": "2019-02-24T11:11:29.469438Z"
    }
   },
   "outputs": [],
   "source": [
    "cwd = os.getcwd()\n",
    "train_csv_path = os.path.join(cwd, 'data', 'train.csv')\n",
    "test_csv_path = os.path.join(cwd, 'data', 'test.csv')\n",
    "train_df = pd.read_csv(train_csv_path)\n",
    "test_df = pd.read_csv(test_csv_path)"
   ]
  },
  {
   "cell_type": "code",
   "execution_count": 3,
   "metadata": {
    "ExecuteTime": {
     "end_time": "2019-02-24T11:11:31.615310Z",
     "start_time": "2019-02-24T11:11:31.599205Z"
    }
   },
   "outputs": [
    {
     "data": {
      "text/html": [
       "<div>\n",
       "<style scoped>\n",
       "    .dataframe tbody tr th:only-of-type {\n",
       "        vertical-align: middle;\n",
       "    }\n",
       "\n",
       "    .dataframe tbody tr th {\n",
       "        vertical-align: top;\n",
       "    }\n",
       "\n",
       "    .dataframe thead th {\n",
       "        text-align: right;\n",
       "    }\n",
       "</style>\n",
       "<table border=\"1\" class=\"dataframe\">\n",
       "  <thead>\n",
       "    <tr style=\"text-align: right;\">\n",
       "      <th></th>\n",
       "      <th>itemid</th>\n",
       "      <th>title</th>\n",
       "      <th>Category</th>\n",
       "      <th>image_path</th>\n",
       "    </tr>\n",
       "  </thead>\n",
       "  <tbody>\n",
       "    <tr>\n",
       "      <th>666605</th>\n",
       "      <td>1507136447</td>\n",
       "      <td>ipad mini 3 16gb wifi cell 4g lte second fulls...</td>\n",
       "      <td>35</td>\n",
       "      <td>mobile_image/4f07fd3529a5b44e95a3646291fa00f7.jpg</td>\n",
       "    </tr>\n",
       "    <tr>\n",
       "      <th>666606</th>\n",
       "      <td>1507150396</td>\n",
       "      <td>stok terbatas samsung galaxy j4 2gb 32gb garan...</td>\n",
       "      <td>32</td>\n",
       "      <td>mobile_image/af2ce434de94ce997c9960dd7c6d3420.jpg</td>\n",
       "    </tr>\n",
       "    <tr>\n",
       "      <th>666607</th>\n",
       "      <td>1507459413</td>\n",
       "      <td>stok terbatas iphone 6s 128gb fu second origin...</td>\n",
       "      <td>31</td>\n",
       "      <td>mobile_image/360104cd7006c0aa7c9365312ae40501.jpg</td>\n",
       "    </tr>\n",
       "    <tr>\n",
       "      <th>666608</th>\n",
       "      <td>1510035980</td>\n",
       "      <td>iphone 8 64gb red</td>\n",
       "      <td>31</td>\n",
       "      <td>mobile_image/4bd23a85f190ca5d416904a709274b1e.jpg</td>\n",
       "    </tr>\n",
       "    <tr>\n",
       "      <th>666609</th>\n",
       "      <td>1510470376</td>\n",
       "      <td>samsung note 9 rom 128gb ram 6gb new resmi kre...</td>\n",
       "      <td>32</td>\n",
       "      <td>mobile_image/2bbbf3ed6fcfa0480278ea1b50557ac4.jpg</td>\n",
       "    </tr>\n",
       "    <tr>\n",
       "      <th>666610</th>\n",
       "      <td>1510771637</td>\n",
       "      <td>beli 2 gratis 1 xiaomi mi mix black 6 64 rom g...</td>\n",
       "      <td>34</td>\n",
       "      <td>mobile_image/70e0d8ddd69692b0f134498efbddf4e1.jpg</td>\n",
       "    </tr>\n",
       "    <tr>\n",
       "      <th>666611</th>\n",
       "      <td>1515822742</td>\n",
       "      <td>android i phone x real 4g 16gb free wireless c...</td>\n",
       "      <td>35</td>\n",
       "      <td>mobile_image/d58393fe029ba62160d2a5d1fa6638a1.jpg</td>\n",
       "    </tr>\n",
       "    <tr>\n",
       "      <th>666612</th>\n",
       "      <td>1516747666</td>\n",
       "      <td>xiaomi mia1 ram 4gb 64gb black</td>\n",
       "      <td>34</td>\n",
       "      <td>mobile_image/bfacb3c9af2f6a597008e57fb2d34609.jpg</td>\n",
       "    </tr>\n",
       "    <tr>\n",
       "      <th>666613</th>\n",
       "      <td>1517270941</td>\n",
       "      <td>khusus hari ini samsung j2 prime</td>\n",
       "      <td>32</td>\n",
       "      <td>mobile_image/42d74ab8212a24720d42e84c649ab488.jpg</td>\n",
       "    </tr>\n",
       "    <tr>\n",
       "      <th>666614</th>\n",
       "      <td>1518889125</td>\n",
       "      <td>oppo a83 2 gb new garansi resmi 1 tahun</td>\n",
       "      <td>41</td>\n",
       "      <td>mobile_image/0b10f33a67ccb4ee3e1240d44c2ee0ef.jpg</td>\n",
       "    </tr>\n",
       "  </tbody>\n",
       "</table>\n",
       "</div>"
      ],
      "text/plain": [
       "            itemid                                              title  \\\n",
       "666605  1507136447  ipad mini 3 16gb wifi cell 4g lte second fulls...   \n",
       "666606  1507150396  stok terbatas samsung galaxy j4 2gb 32gb garan...   \n",
       "666607  1507459413  stok terbatas iphone 6s 128gb fu second origin...   \n",
       "666608  1510035980                                  iphone 8 64gb red   \n",
       "666609  1510470376  samsung note 9 rom 128gb ram 6gb new resmi kre...   \n",
       "666610  1510771637  beli 2 gratis 1 xiaomi mi mix black 6 64 rom g...   \n",
       "666611  1515822742  android i phone x real 4g 16gb free wireless c...   \n",
       "666612  1516747666                     xiaomi mia1 ram 4gb 64gb black   \n",
       "666613  1517270941                   khusus hari ini samsung j2 prime   \n",
       "666614  1518889125            oppo a83 2 gb new garansi resmi 1 tahun   \n",
       "\n",
       "        Category                                         image_path  \n",
       "666605        35  mobile_image/4f07fd3529a5b44e95a3646291fa00f7.jpg  \n",
       "666606        32  mobile_image/af2ce434de94ce997c9960dd7c6d3420.jpg  \n",
       "666607        31  mobile_image/360104cd7006c0aa7c9365312ae40501.jpg  \n",
       "666608        31  mobile_image/4bd23a85f190ca5d416904a709274b1e.jpg  \n",
       "666609        32  mobile_image/2bbbf3ed6fcfa0480278ea1b50557ac4.jpg  \n",
       "666610        34  mobile_image/70e0d8ddd69692b0f134498efbddf4e1.jpg  \n",
       "666611        35  mobile_image/d58393fe029ba62160d2a5d1fa6638a1.jpg  \n",
       "666612        34  mobile_image/bfacb3c9af2f6a597008e57fb2d34609.jpg  \n",
       "666613        32  mobile_image/42d74ab8212a24720d42e84c649ab488.jpg  \n",
       "666614        41  mobile_image/0b10f33a67ccb4ee3e1240d44c2ee0ef.jpg  "
      ]
     },
     "execution_count": 3,
     "metadata": {},
     "output_type": "execute_result"
    }
   ],
   "source": [
    "train_df.tail(10)"
   ]
  },
  {
   "cell_type": "code",
   "execution_count": 4,
   "metadata": {
    "ExecuteTime": {
     "end_time": "2019-02-24T11:11:31.626761Z",
     "start_time": "2019-02-24T11:11:31.617243Z"
    }
   },
   "outputs": [
    {
     "data": {
      "text/html": [
       "<div>\n",
       "<style scoped>\n",
       "    .dataframe tbody tr th:only-of-type {\n",
       "        vertical-align: middle;\n",
       "    }\n",
       "\n",
       "    .dataframe tbody tr th {\n",
       "        vertical-align: top;\n",
       "    }\n",
       "\n",
       "    .dataframe thead th {\n",
       "        text-align: right;\n",
       "    }\n",
       "</style>\n",
       "<table border=\"1\" class=\"dataframe\">\n",
       "  <thead>\n",
       "    <tr style=\"text-align: right;\">\n",
       "      <th></th>\n",
       "      <th>itemid</th>\n",
       "      <th>title</th>\n",
       "      <th>image_path</th>\n",
       "    </tr>\n",
       "  </thead>\n",
       "  <tbody>\n",
       "    <tr>\n",
       "      <th>0</th>\n",
       "      <td>370855998</td>\n",
       "      <td>flormar 7 white cream bb spf 30 40ml</td>\n",
       "      <td>beauty_image/1588591395c5a254bab84042005f2a9f.jpg</td>\n",
       "    </tr>\n",
       "    <tr>\n",
       "      <th>1</th>\n",
       "      <td>637234604</td>\n",
       "      <td>maybelline clear smooth all in one bb cream sp...</td>\n",
       "      <td>beauty_image/920985ed9587ea20f58686ea74e20f93.jpg</td>\n",
       "    </tr>\n",
       "    <tr>\n",
       "      <th>2</th>\n",
       "      <td>690282890</td>\n",
       "      <td>murah innisfree eco natural green tea bb cream...</td>\n",
       "      <td>beauty_image/90b40e5710f54352b243fcfb0f5d1d7f.jpg</td>\n",
       "    </tr>\n",
       "    <tr>\n",
       "      <th>3</th>\n",
       "      <td>930913462</td>\n",
       "      <td>loreal white perfect day cream spf 17 pa white...</td>\n",
       "      <td>beauty_image/289c668ef3d70e1d929d602d52d5d78a.jpg</td>\n",
       "    </tr>\n",
       "    <tr>\n",
       "      <th>4</th>\n",
       "      <td>1039280071</td>\n",
       "      <td>hada labo cc cream ultimate anti aging spf 35 ...</td>\n",
       "      <td>beauty_image/d5b3e652c5822d2306f4560488ec30c6.jpg</td>\n",
       "    </tr>\n",
       "    <tr>\n",
       "      <th>5</th>\n",
       "      <td>1327710392</td>\n",
       "      <td>cathy doll cc speed white powder pact spf 40 o...</td>\n",
       "      <td>beauty_image/e1e50828d5594721a7d5d5c1ff78afbd.jpg</td>\n",
       "    </tr>\n",
       "    <tr>\n",
       "      <th>6</th>\n",
       "      <td>1328802799</td>\n",
       "      <td>safi white natural brightening cream 45g</td>\n",
       "      <td>beauty_image/97ec852d5afc5d82ac02b80083cf292f.jpg</td>\n",
       "    </tr>\n",
       "    <tr>\n",
       "      <th>7</th>\n",
       "      <td>1330468145</td>\n",
       "      <td>light beige 03 bioaqua bb cushion exquisite de...</td>\n",
       "      <td>beauty_image/8ce1a5fe546f0cc795329bad599a8d5a.jpg</td>\n",
       "    </tr>\n",
       "    <tr>\n",
       "      <th>8</th>\n",
       "      <td>1677309730</td>\n",
       "      <td>new produk missha m perfect bb cream share in ...</td>\n",
       "      <td>beauty_image/755fcc85c687e8cb53d2a8d43ebfe251.jpg</td>\n",
       "    </tr>\n",
       "    <tr>\n",
       "      <th>9</th>\n",
       "      <td>1683142205</td>\n",
       "      <td>ready laneige bb cushion anti aging spf 50 pa</td>\n",
       "      <td>beauty_image/34b56398c099505c650cf2447dc9f21f.jpg</td>\n",
       "    </tr>\n",
       "  </tbody>\n",
       "</table>\n",
       "</div>"
      ],
      "text/plain": [
       "       itemid                                              title  \\\n",
       "0   370855998               flormar 7 white cream bb spf 30 40ml   \n",
       "1   637234604  maybelline clear smooth all in one bb cream sp...   \n",
       "2   690282890  murah innisfree eco natural green tea bb cream...   \n",
       "3   930913462  loreal white perfect day cream spf 17 pa white...   \n",
       "4  1039280071  hada labo cc cream ultimate anti aging spf 35 ...   \n",
       "5  1327710392  cathy doll cc speed white powder pact spf 40 o...   \n",
       "6  1328802799           safi white natural brightening cream 45g   \n",
       "7  1330468145  light beige 03 bioaqua bb cushion exquisite de...   \n",
       "8  1677309730  new produk missha m perfect bb cream share in ...   \n",
       "9  1683142205      ready laneige bb cushion anti aging spf 50 pa   \n",
       "\n",
       "                                          image_path  \n",
       "0  beauty_image/1588591395c5a254bab84042005f2a9f.jpg  \n",
       "1  beauty_image/920985ed9587ea20f58686ea74e20f93.jpg  \n",
       "2  beauty_image/90b40e5710f54352b243fcfb0f5d1d7f.jpg  \n",
       "3  beauty_image/289c668ef3d70e1d929d602d52d5d78a.jpg  \n",
       "4  beauty_image/d5b3e652c5822d2306f4560488ec30c6.jpg  \n",
       "5  beauty_image/e1e50828d5594721a7d5d5c1ff78afbd.jpg  \n",
       "6  beauty_image/97ec852d5afc5d82ac02b80083cf292f.jpg  \n",
       "7  beauty_image/8ce1a5fe546f0cc795329bad599a8d5a.jpg  \n",
       "8  beauty_image/755fcc85c687e8cb53d2a8d43ebfe251.jpg  \n",
       "9  beauty_image/34b56398c099505c650cf2447dc9f21f.jpg  "
      ]
     },
     "execution_count": 4,
     "metadata": {},
     "output_type": "execute_result"
    }
   ],
   "source": [
    "test_df.head(10)"
   ]
  },
  {
   "cell_type": "markdown",
   "metadata": {},
   "source": [
    "#### Here we can see that the distribution of examples per categories are very skewed, meaning we might have to do some dataset balancing."
   ]
  },
  {
   "cell_type": "code",
   "execution_count": 5,
   "metadata": {
    "ExecuteTime": {
     "end_time": "2019-02-24T11:11:32.196112Z",
     "start_time": "2019-02-24T11:11:31.629128Z"
    }
   },
   "outputs": [
    {
     "data": {
      "text/plain": [
       "<matplotlib.axes._subplots.AxesSubplot at 0xa2b3830f0>"
      ]
     },
     "execution_count": 5,
     "metadata": {},
     "output_type": "execute_result"
    },
    {
     "data": {
      "image/png": "[encoded data removed]",
      "text/plain": [
       "<Figure size 936x720 with 1 Axes>"
      ]
     },
     "metadata": {},
     "output_type": "display_data"
    }
   ],
   "source": [
    "#TODO\n",
    "\"\"\"\n",
    "Check distribution of test data and plot the side by side with training plots\n",
    "using plot.subplots\n",
    "\"\"\"\n",
    "sns.set(rc={'figure.figsize':(13,10)})\n",
    "sns.countplot(x='Category', data=train_df, palette='icefire_r')"
   ]
  },
  {
   "cell_type": "code",
   "execution_count": 6,
   "metadata": {
    "ExecuteTime": {
     "end_time": "2019-02-24T11:11:33.199847Z",
     "start_time": "2019-02-24T11:11:32.198296Z"
    }
   },
   "outputs": [],
   "source": [
    "train_df['image_path_category'] = train_df['image_path'].map(\n",
    "    lambda path: os.path.split(path)[0])"
   ]
  },
  {
   "cell_type": "code",
   "execution_count": 7,
   "metadata": {
    "ExecuteTime": {
     "end_time": "2019-02-24T11:11:33.525713Z",
     "start_time": "2019-02-24T11:11:33.201462Z"
    }
   },
   "outputs": [
    {
     "data": {
      "text/plain": [
       "<matplotlib.axes._subplots.AxesSubplot at 0xa2b6a0470>"
      ]
     },
     "execution_count": 7,
     "metadata": {},
     "output_type": "execute_result"
    },
    {
     "data": {
      "image/png": "[encoded data removed]",
      "text/plain": [
       "<Figure size 936x720 with 1 Axes>"
      ]
     },
     "metadata": {},
     "output_type": "display_data"
    }
   ],
   "source": [
    "sns.countplot(x='image_path_category', data=train_df, palette='icefire_r')"
   ]
  },
  {
   "cell_type": "markdown",
   "metadata": {},
   "source": [
    "#### It seems that mobile images have more categories, but less total number of images which leads to very low images per category."
   ]
  },
  {
   "cell_type": "code",
   "execution_count": 8,
   "metadata": {
    "ExecuteTime": {
     "end_time": "2019-02-24T11:11:35.418056Z",
     "start_time": "2019-02-24T11:11:33.527243Z"
    }
   },
   "outputs": [
    {
     "name": "stderr",
     "output_type": "stream",
     "text": [
      "/Users/sunyitao/anaconda3/lib/python3.6/site-packages/scipy/stats/stats.py:1713: FutureWarning: Using a non-tuple sequence for multidimensional indexing is deprecated; use `arr[tuple(seq)]` instead of `arr[seq]`. In the future this will be interpreted as an array index, `arr[np.array(seq)]`, which will result either in an error or a different result.\n",
      "  return np.add.reduce(sorted[indexer] * weights, axis=axis) / sumval\n"
     ]
    },
    {
     "data": {
      "text/plain": [
       "'\\nCheck if there is no overlap in categories between the image_path_categories\\n'"
      ]
     },
     "execution_count": 8,
     "metadata": {},
     "output_type": "execute_result"
    },
    {
     "data": {
      "image/png": "[encoded data removed]",
      "text/plain": [
       "<Figure size 720x720 with 1 Axes>"
      ]
     },
     "metadata": {},
     "output_type": "display_data"
    }
   ],
   "source": [
    "sns.set(rc={'figure.figsize':(10,10)})\n",
    "sns.catplot(x='image_path_category', y='Category', data=train_df, \n",
    "            kind='violin', palette='icefire_r', height=10)\n",
    "#TODO\n",
    "\"\"\"\n",
    "Check if there is no overlap in categories between the image_path_categories\n",
    "\"\"\""
   ]
  },
  {
   "cell_type": "code",
   "execution_count": 9,
   "metadata": {
    "ExecuteTime": {
     "end_time": "2019-02-24T11:11:35.424089Z",
     "start_time": "2019-02-24T11:11:35.419576Z"
    }
   },
   "outputs": [
    {
     "data": {
      "text/plain": [
       "'\\ncheck significance of itemid, is it just a random number \\nor is there a meaning to it like maybe it was created from date? \\nScatter plot itemid on y axis and category on x axis\\nCheck if there are duplicates of itemid\\n'"
      ]
     },
     "execution_count": 9,
     "metadata": {},
     "output_type": "execute_result"
    }
   ],
   "source": [
    "#TODO \n",
    "\"\"\"\n",
    "check significance of itemid, is it just a random number \n",
    "or is there a meaning to it like maybe it was created from date? \n",
    "Scatter plot itemid on y axis and category on x axis\n",
    "Check if there are duplicates of itemid\n",
    "\"\"\""
   ]
  },
  {
   "cell_type": "code",
   "execution_count": 10,
   "metadata": {
    "ExecuteTime": {
     "end_time": "2019-02-24T11:11:35.429798Z",
     "start_time": "2019-02-24T11:11:35.425795Z"
    }
   },
   "outputs": [
    {
     "data": {
      "text/plain": [
       "'\\nVisualise the title words using some word-to-vec\\nVisualise distribution of the occurence of words/phrases\\n'"
      ]
     },
     "execution_count": 10,
     "metadata": {},
     "output_type": "execute_result"
    }
   ],
   "source": [
    "#TODO\n",
    "\"\"\"\n",
    "Visualise the title words using some word-to-vec\n",
    "Visualise distribution of the occurence of words/phrases\n",
    "\"\"\""
   ]
  },
  {
   "cell_type": "code",
   "execution_count": 11,
   "metadata": {
    "ExecuteTime": {
     "end_time": "2019-02-24T11:11:35.436233Z",
     "start_time": "2019-02-24T11:11:35.431861Z"
    }
   },
   "outputs": [
    {
     "data": {
      "text/plain": [
       "'\\nPlot tsne/ pca component analysis of images\\n'"
      ]
     },
     "execution_count": 11,
     "metadata": {},
     "output_type": "execute_result"
    }
   ],
   "source": [
    "#TODO for yitao\n",
    "\"\"\"\n",
    "Plot tsne/ pca component analysis of images\n",
    "\"\"\""
   ]
  }
 ],
 "metadata": {
  "kernelspec": {
   "display_name": "Python 3",
   "language": "python",
   "name": "python3"
  },
  "language_info": {
   "codemirror_mode": {
    "name": "ipython",
    "version": 3
   },
   "file_extension": ".py",
   "mimetype": "text/x-python",
   "name": "python",
   "nbconvert_exporter": "python",
   "pygments_lexer": "ipython3",
   "version": "3.6.8"
  },
  "toc": {
   "base_numbering": 1,
   "nav_menu": {},
   "number_sections": true,
   "sideBar": true,
   "skip_h1_title": false,
   "title_cell": "Table of Contents",
   "title_sidebar": "Contents",
   "toc_cell": false,
   "toc_position": {},
   "toc_section_display": true,
   "toc_window_display": false
  },
  "varInspector": {
   "cols": {
    "lenName": 16,
    "lenType": 16,
    "lenVar": 40
   },
   "kernels_config": {
    "python": {
     "delete_cmd_postfix": "",
     "delete_cmd_prefix": "del ",
     "library": "var_list.py",
     "varRefreshCmd": "print(var_dic_list())"
    },
    "r": {
     "delete_cmd_postfix": ") ",
     "delete_cmd_prefix": "rm(",
     "library": "var_list.r",
     "varRefreshCmd": "cat(var_dic_list()) "
    }
   },
   "types_to_exclude": [
    "module",
    "function",
    "builtin_function_or_method",
    "instance",
    "_Feature"
   ],
   "window_display": false
  }
 },
 "nbformat": 4,
 "nbformat_minor": 2
}
